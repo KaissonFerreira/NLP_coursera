{
 "cells": [
  {
   "cell_type": "markdown",
   "metadata": {},
   "source": [
    "Nessa semana, o estudo é sobre como transformar as palavras em números a fim de se identificar cada uma delas dentro de uma lista.\n",
    "Esse processo se chama tokenização."
   ]
  },
  {
   "cell_type": "markdown",
   "metadata": {},
   "source": [
    "# 0.0 - Imports"
   ]
  },
  {
   "cell_type": "code",
   "execution_count": 2,
   "metadata": {},
   "outputs": [],
   "source": [
    "import json\n",
    "import re\n",
    "import tensorflow        as tf\n",
    "import numpy             as np\n",
    "import pandas            as pd\n",
    "import matplotlib.pyplot as plt\n",
    "\n",
    "from tensorflow.keras.preprocessing.text     import Tokenizer\n",
    "from tensorflow.keras.preprocessing.sequence import pad_sequences\n"
   ]
  },
  {
   "cell_type": "markdown",
   "metadata": {},
   "source": [
    "## 0.1 Load Data"
   ]
  },
  {
   "cell_type": "code",
   "execution_count": 3,
   "metadata": {},
   "outputs": [],
   "source": [
    "datastore = [json.loads(line) for line in open(r\"D:\\Cursos_DS\\NLP_coursera\\Data\\archive\\Sarcasm_Headlines_Dataset_v2.json\", 'r')]"
   ]
  },
  {
   "cell_type": "markdown",
   "metadata": {},
   "source": [
    "# 1.0 Data Preparation"
   ]
  },
  {
   "cell_type": "markdown",
   "metadata": {},
   "source": [
    "## 1.1 Configuration"
   ]
  },
  {
   "cell_type": "code",
   "execution_count": 4,
   "metadata": {},
   "outputs": [],
   "source": [
    "vocab_size = 10000 # Quantidade de palavras\n",
    "embedding_dim = 16\n",
    "max_length = 1000 # Tamanho de cada frase\n",
    "trunc_type = 'post'\n",
    "padding_type = 'post'\n",
    "oov_tok = 'XXXX'\n",
    "training_size = 20000"
   ]
  },
  {
   "cell_type": "markdown",
   "metadata": {},
   "source": [
    "## 1.2 Sentences and labels"
   ]
  },
  {
   "cell_type": "code",
   "execution_count": 5,
   "metadata": {},
   "outputs": [],
   "source": [
    "sentences = [] \n",
    "labels = []\n",
    "urls = []\n",
    "for item in datastore:\n",
    "    sentences.append(item['headline'])\n",
    "    labels.append(item['is_sarcastic'])\n",
    "    urls.append(item['article_link'])"
   ]
  },
  {
   "cell_type": "markdown",
   "metadata": {},
   "source": [
    "# 2.0 Preprocessing"
   ]
  },
  {
   "cell_type": "markdown",
   "metadata": {},
   "source": [
    "## 2.1 Train and test"
   ]
  },
  {
   "cell_type": "code",
   "execution_count": 6,
   "metadata": {},
   "outputs": [],
   "source": [
    "training_sentences = sentences[0:training_size]\n",
    "training_labels = labels[0:training_size]\n",
    "testing_sentences = sentences[training_size:]\n",
    "testing_labels = labels[training_size:]"
   ]
  },
  {
   "cell_type": "code",
   "execution_count": 7,
   "metadata": {},
   "outputs": [],
   "source": [
    "testing_labels_final = np.array(testing_labels)\n",
    "training_labels_final = np.array(training_labels)"
   ]
  },
  {
   "cell_type": "markdown",
   "metadata": {},
   "source": [
    "## 2.2 Tokenização"
   ]
  },
  {
   "cell_type": "code",
   "execution_count": 8,
   "metadata": {},
   "outputs": [],
   "source": [
    "tokenizer = Tokenizer(  num_words = vocab_size,\n",
    "                        oov_token=oov_tok)\n",
    "tokenizer.fit_on_texts(training_sentences) # Tokenizando as palavras do treinamento\n",
    "\n",
    "word_index = tokenizer.word_index\n",
    "\n",
    "# Criando a sequência de palavras para o treinamento, Substituindo as palavras pelos seus tokens.\n",
    "training_sequences = tokenizer.texts_to_sequences(training_sentences) \n",
    "training_padded = pad_sequences(training_sequences,\n",
    "                                maxlen= max_length,\n",
    "                                padding=padding_type,\n",
    "                                truncating= trunc_type)\n",
    "\n",
    "# Repetindo o processo para os dados de teste.\n",
    "testing_sequences = tokenizer.texts_to_sequences(testing_sentences) \n",
    "testing_padded = pad_sequences(testing_sequences,\n",
    "                                maxlen= max_length,\n",
    "                                padding=padding_type,\n",
    "                                truncating= trunc_type)\n"
   ]
  },
  {
   "cell_type": "markdown",
   "metadata": {},
   "source": [
    "# 3.0 Model"
   ]
  },
  {
   "cell_type": "markdown",
   "metadata": {},
   "source": [
    "## 3.1 Build Model - Model_1"
   ]
  },
  {
   "cell_type": "code",
   "execution_count": 8,
   "metadata": {},
   "outputs": [],
   "source": [
    "model = tf.keras.Sequential([\n",
    "    tf.keras.layers.Embedding(vocab_size, embedding_dim, input_length = max_length), # Aqui é onde a magia realmente acontece\n",
    "    tf.keras.layers.GlobalAveragePooling1D(),\n",
    "    tf.keras.layers.Dense(6, activation = 'relu'),\n",
    "    tf.keras.layers.Dense(1, activation = 'sigmoid')\n",
    "    ])"
   ]
  },
  {
   "cell_type": "code",
   "execution_count": 9,
   "metadata": {},
   "outputs": [],
   "source": [
    "# Compile\n",
    "loss = 'binary_crossentropy'\n",
    "optimizer = 'adam'\n",
    "metrics = ['accuracy']"
   ]
  },
  {
   "cell_type": "code",
   "execution_count": 10,
   "metadata": {},
   "outputs": [],
   "source": [
    "model.compile(  loss= loss,\n",
    "                optimizer = optimizer,\n",
    "                metrics = metrics)"
   ]
  },
  {
   "cell_type": "code",
   "execution_count": 11,
   "metadata": {},
   "outputs": [
    {
     "name": "stdout",
     "output_type": "stream",
     "text": [
      "Model: \"sequential\"\n",
      "_________________________________________________________________\n",
      " Layer (type)                Output Shape              Param #   \n",
      "=================================================================\n",
      " embedding (Embedding)       (None, 1000, 16)          160000    \n",
      "                                                                 \n",
      " global_average_pooling1d (G  (None, 16)               0         \n",
      " lobalAveragePooling1D)                                          \n",
      "                                                                 \n",
      " dense (Dense)               (None, 6)                 102       \n",
      "                                                                 \n",
      " dense_1 (Dense)             (None, 1)                 7         \n",
      "                                                                 \n",
      "=================================================================\n",
      "Total params: 160,109\n",
      "Trainable params: 160,109\n",
      "Non-trainable params: 0\n",
      "_________________________________________________________________\n"
     ]
    }
   ],
   "source": [
    "model.summary()"
   ]
  },
  {
   "cell_type": "markdown",
   "metadata": {},
   "source": [
    "### 3.1.2 Model Fit"
   ]
  },
  {
   "cell_type": "code",
   "execution_count": 12,
   "metadata": {},
   "outputs": [],
   "source": [
    "n_epochs = 15\n"
   ]
  },
  {
   "cell_type": "code",
   "execution_count": 13,
   "metadata": {},
   "outputs": [
    {
     "name": "stdout",
     "output_type": "stream",
     "text": [
      "Epoch 1/15\n",
      "625/625 - 6s - loss: 0.6918 - accuracy: 0.5231 - val_loss: 0.6913 - val_accuracy: 0.5249 - 6s/epoch - 9ms/step\n",
      "Epoch 2/15\n",
      "625/625 - 5s - loss: 0.6909 - accuracy: 0.5231 - val_loss: 0.6897 - val_accuracy: 0.5249 - 5s/epoch - 7ms/step\n",
      "Epoch 3/15\n",
      "625/625 - 5s - loss: 0.6879 - accuracy: 0.5329 - val_loss: 0.6856 - val_accuracy: 0.5249 - 5s/epoch - 7ms/step\n",
      "Epoch 4/15\n",
      "625/625 - 5s - loss: 0.6783 - accuracy: 0.5527 - val_loss: 0.6689 - val_accuracy: 0.5279 - 5s/epoch - 7ms/step\n",
      "Epoch 5/15\n",
      "625/625 - 5s - loss: 0.6311 - accuracy: 0.7050 - val_loss: 0.5869 - val_accuracy: 0.7423 - 5s/epoch - 7ms/step\n",
      "Epoch 6/15\n",
      "625/625 - 5s - loss: 0.5328 - accuracy: 0.7986 - val_loss: 0.5003 - val_accuracy: 0.7837 - 5s/epoch - 7ms/step\n",
      "Epoch 7/15\n",
      "625/625 - 5s - loss: 0.4529 - accuracy: 0.8266 - val_loss: 0.4413 - val_accuracy: 0.8212 - 5s/epoch - 7ms/step\n",
      "Epoch 8/15\n",
      "625/625 - 5s - loss: 0.4041 - accuracy: 0.8396 - val_loss: 0.4657 - val_accuracy: 0.7617 - 5s/epoch - 8ms/step\n",
      "Epoch 9/15\n",
      "625/625 - 5s - loss: 0.3766 - accuracy: 0.8475 - val_loss: 0.3920 - val_accuracy: 0.8310 - 5s/epoch - 8ms/step\n",
      "Epoch 10/15\n",
      "625/625 - 5s - loss: 0.3531 - accuracy: 0.8579 - val_loss: 0.3761 - val_accuracy: 0.8368 - 5s/epoch - 8ms/step\n",
      "Epoch 11/15\n",
      "625/625 - 4s - loss: 0.3341 - accuracy: 0.8641 - val_loss: 0.3658 - val_accuracy: 0.8423 - 4s/epoch - 7ms/step\n",
      "Epoch 12/15\n",
      "625/625 - 4s - loss: 0.3204 - accuracy: 0.8723 - val_loss: 0.3608 - val_accuracy: 0.8422 - 4s/epoch - 6ms/step\n",
      "Epoch 13/15\n",
      "625/625 - 4s - loss: 0.3061 - accuracy: 0.8789 - val_loss: 0.3530 - val_accuracy: 0.8475 - 4s/epoch - 6ms/step\n",
      "Epoch 14/15\n",
      "625/625 - 4s - loss: 0.2953 - accuracy: 0.8845 - val_loss: 0.3697 - val_accuracy: 0.8312 - 4s/epoch - 6ms/step\n",
      "Epoch 15/15\n",
      "625/625 - 4s - loss: 0.2830 - accuracy: 0.8900 - val_loss: 0.3429 - val_accuracy: 0.8509 - 4s/epoch - 6ms/step\n"
     ]
    }
   ],
   "source": [
    "history = model.fit(training_padded,\n",
    "                    training_labels_final,\n",
    "                    epochs = n_epochs,\n",
    "                    validation_data = (testing_padded, testing_labels_final),\n",
    "                    verbose = 2)"
   ]
  },
  {
   "cell_type": "markdown",
   "metadata": {},
   "source": [
    "### 3.1.3 Results"
   ]
  },
  {
   "cell_type": "code",
   "execution_count": 14,
   "metadata": {},
   "outputs": [],
   "source": [
    "def plot_graphs(history, string):\n",
    "    plt.plot(history.history[string])\n",
    "    plt.plot(history.history['val_'+string])\n",
    "    plt.xlabel('Epochs')\n",
    "    plt.ylabel(string)\n",
    "    plt.legend([string, 'val_'+string])\n",
    "    plt.show()"
   ]
  },
  {
   "cell_type": "code",
   "execution_count": 16,
   "metadata": {},
   "outputs": [
    {
     "data": {
      "image/png": "[encoded data removed]",
      "text/plain": [
       "<Figure size 432x288 with 1 Axes>"
      ]
     },
     "metadata": {
      "needs_background": "light"
     },
     "output_type": "display_data"
    },
    {
     "data": {
      "image/png": "[encoded data removed]",
      "text/plain": [
       "<Figure size 432x288 with 1 Axes>"
      ]
     },
     "metadata": {
      "needs_background": "light"
     },
     "output_type": "display_data"
    }
   ],
   "source": [
    "plot_graphs(history, 'accuracy')\n",
    "plot_graphs(history, 'loss')"
   ]
  },
  {
   "cell_type": "markdown",
   "metadata": {},
   "source": [
    "## 3.2 Build Model - Model_2"
   ]
  },
  {
   "cell_type": "code",
   "execution_count": 10,
   "metadata": {},
   "outputs": [],
   "source": [
    "# Aumentando o número de dimensões para embedding ... \n",
    "embedding_dim = 64"
   ]
  },
  {
   "cell_type": "code",
   "execution_count": 12,
   "metadata": {},
   "outputs": [
    {
     "name": "stdout",
     "output_type": "stream",
     "text": [
      "Model: \"sequential_1\"\n",
      "_________________________________________________________________\n",
      " Layer (type)                Output Shape              Param #   \n",
      "=================================================================\n",
      " embedding_1 (Embedding)     (None, 1000, 64)          640000    \n",
      "                                                                 \n",
      " global_average_pooling1d_1   (None, 64)               0         \n",
      " (GlobalAveragePooling1D)                                        \n",
      "                                                                 \n",
      " dense_2 (Dense)             (None, 6)                 390       \n",
      "                                                                 \n",
      " dense_3 (Dense)             (None, 1)                 7         \n",
      "                                                                 \n",
      "=================================================================\n",
      "Total params: 640,397\n",
      "Trainable params: 640,397\n",
      "Non-trainable params: 0\n",
      "_________________________________________________________________\n"
     ]
    }
   ],
   "source": [
    "model_2 = tf.keras.Sequential([\n",
    "    tf.keras.layers.Embedding(vocab_size, embedding_dim, input_length = max_length), # Aqui é onde a magia realmente acontece\n",
    "    tf.keras.layers.GlobalAveragePooling1D(),\n",
    "    tf.keras.layers.Dense(6, activation = 'relu'),\n",
    "    tf.keras.layers.Dense(1, activation = 'sigmoid')\n",
    "    ])\n",
    "# Compile\n",
    "loss = 'binary_crossentropy'\n",
    "optimizer = 'adam'\n",
    "metrics = ['accuracy']\n",
    "model_2.compile(  loss= loss,\n",
    "                optimizer = optimizer,\n",
    "                metrics = metrics)\n",
    "model_2.summary()\n",
    "\n"
   ]
  },
  {
   "cell_type": "markdown",
   "metadata": {},
   "source": [
    "### 3.2.2 Model Fit\n"
   ]
  },
  {
   "cell_type": "code",
   "execution_count": 17,
   "metadata": {},
   "outputs": [
    {
     "name": "stdout",
     "output_type": "stream",
     "text": [
      "Epoch 1/30\n",
      "625/625 - 18s - loss: 0.2352 - accuracy: 0.9069 - val_loss: 0.3427 - val_accuracy: 0.8482 - 18s/epoch - 29ms/step\n",
      "Epoch 2/30\n",
      "625/625 - 17s - loss: 0.2252 - accuracy: 0.9133 - val_loss: 0.3349 - val_accuracy: 0.8522 - 17s/epoch - 28ms/step\n",
      "Epoch 3/30\n",
      "625/625 - 17s - loss: 0.2157 - accuracy: 0.9165 - val_loss: 0.3459 - val_accuracy: 0.8507 - 17s/epoch - 27ms/step\n",
      "Epoch 4/30\n",
      "625/625 - 17s - loss: 0.2091 - accuracy: 0.9191 - val_loss: 0.3384 - val_accuracy: 0.8510 - 17s/epoch - 27ms/step\n",
      "Epoch 5/30\n",
      "625/625 - 18s - loss: 0.2046 - accuracy: 0.9210 - val_loss: 0.3371 - val_accuracy: 0.8561 - 18s/epoch - 28ms/step\n",
      "Epoch 6/30\n",
      "625/625 - 19s - loss: 0.1927 - accuracy: 0.9252 - val_loss: 0.3524 - val_accuracy: 0.8498 - 19s/epoch - 31ms/step\n",
      "Epoch 7/30\n",
      "625/625 - 18s - loss: 0.1861 - accuracy: 0.9302 - val_loss: 0.3664 - val_accuracy: 0.8426 - 18s/epoch - 29ms/step\n",
      "Epoch 8/30\n",
      "625/625 - 21s - loss: 0.1787 - accuracy: 0.9310 - val_loss: 0.3692 - val_accuracy: 0.8421 - 21s/epoch - 34ms/step\n",
      "Epoch 9/30\n",
      "625/625 - 19s - loss: 0.1726 - accuracy: 0.9347 - val_loss: 0.3547 - val_accuracy: 0.8502 - 19s/epoch - 31ms/step\n",
      "Epoch 10/30\n",
      "625/625 - 21s - loss: 0.1671 - accuracy: 0.9384 - val_loss: 0.3677 - val_accuracy: 0.8416 - 21s/epoch - 34ms/step\n",
      "Epoch 11/30\n",
      "625/625 - 18s - loss: 0.1612 - accuracy: 0.9398 - val_loss: 0.3649 - val_accuracy: 0.8455 - 18s/epoch - 29ms/step\n",
      "Epoch 12/30\n",
      "625/625 - 16s - loss: 0.1561 - accuracy: 0.9419 - val_loss: 0.3627 - val_accuracy: 0.8478 - 16s/epoch - 25ms/step\n",
      "Epoch 13/30\n",
      "625/625 - 17s - loss: 0.1531 - accuracy: 0.9445 - val_loss: 0.4389 - val_accuracy: 0.8294 - 17s/epoch - 27ms/step\n",
      "Epoch 14/30\n",
      "625/625 - 17s - loss: 0.1517 - accuracy: 0.9433 - val_loss: 0.3681 - val_accuracy: 0.8522 - 17s/epoch - 28ms/step\n",
      "Epoch 15/30\n",
      "625/625 - 17s - loss: 0.1411 - accuracy: 0.9476 - val_loss: 0.3736 - val_accuracy: 0.8501 - 17s/epoch - 27ms/step\n",
      "Epoch 16/30\n",
      "625/625 - 16s - loss: 0.1411 - accuracy: 0.9477 - val_loss: 0.3905 - val_accuracy: 0.8420 - 16s/epoch - 26ms/step\n",
      "Epoch 17/30\n",
      "625/625 - 16s - loss: 0.1381 - accuracy: 0.9495 - val_loss: 0.3845 - val_accuracy: 0.8460 - 16s/epoch - 26ms/step\n",
      "Epoch 18/30\n",
      "625/625 - 17s - loss: 0.1331 - accuracy: 0.9516 - val_loss: 0.4569 - val_accuracy: 0.8319 - 17s/epoch - 26ms/step\n",
      "Epoch 19/30\n",
      "625/625 - 17s - loss: 0.1290 - accuracy: 0.9527 - val_loss: 0.3963 - val_accuracy: 0.8452 - 17s/epoch - 26ms/step\n",
      "Epoch 20/30\n",
      "625/625 - 17s - loss: 0.1238 - accuracy: 0.9562 - val_loss: 0.4018 - val_accuracy: 0.8455 - 17s/epoch - 27ms/step\n",
      "Epoch 21/30\n",
      "625/625 - 18s - loss: 0.1211 - accuracy: 0.9557 - val_loss: 0.4140 - val_accuracy: 0.8405 - 18s/epoch - 28ms/step\n",
      "Epoch 22/30\n",
      "625/625 - 17s - loss: 0.1170 - accuracy: 0.9579 - val_loss: 0.4216 - val_accuracy: 0.8415 - 17s/epoch - 28ms/step\n",
      "Epoch 23/30\n",
      "625/625 - 17s - loss: 0.1149 - accuracy: 0.9603 - val_loss: 0.4267 - val_accuracy: 0.8388 - 17s/epoch - 27ms/step\n",
      "Epoch 24/30\n",
      "625/625 - 16s - loss: 0.1127 - accuracy: 0.9593 - val_loss: 0.4293 - val_accuracy: 0.8417 - 16s/epoch - 26ms/step\n",
      "Epoch 25/30\n",
      "625/625 - 17s - loss: 0.1109 - accuracy: 0.9596 - val_loss: 0.5126 - val_accuracy: 0.8288 - 17s/epoch - 27ms/step\n",
      "Epoch 26/30\n",
      "625/625 - 17s - loss: 0.1060 - accuracy: 0.9627 - val_loss: 0.4423 - val_accuracy: 0.8404 - 17s/epoch - 27ms/step\n",
      "Epoch 27/30\n",
      "625/625 - 17s - loss: 0.1035 - accuracy: 0.9627 - val_loss: 0.4500 - val_accuracy: 0.8401 - 17s/epoch - 27ms/step\n",
      "Epoch 28/30\n",
      "625/625 - 17s - loss: 0.1026 - accuracy: 0.9628 - val_loss: 0.4584 - val_accuracy: 0.8356 - 17s/epoch - 27ms/step\n",
      "Epoch 29/30\n",
      "625/625 - 17s - loss: 0.0970 - accuracy: 0.9666 - val_loss: 0.4684 - val_accuracy: 0.8336 - 17s/epoch - 27ms/step\n",
      "Epoch 30/30\n",
      "625/625 - 17s - loss: 0.0975 - accuracy: 0.9673 - val_loss: 0.4793 - val_accuracy: 0.8351 - 17s/epoch - 27ms/step\n"
     ]
    }
   ],
   "source": [
    "n_epochs = 30\n",
    "\n",
    "history_2 = model_2.fit(training_padded,\n",
    "                    training_labels_final,\n",
    "                    epochs = n_epochs,\n",
    "                    validation_data = (testing_padded, testing_labels_final),\n",
    "                    verbose = 2)\n"
   ]
  },
  {
   "cell_type": "markdown",
   "metadata": {},
   "source": [
    "### 3.2.3 Results\n"
   ]
  },
  {
   "cell_type": "code",
   "execution_count": 18,
   "metadata": {},
   "outputs": [],
   "source": [
    "def plot_graphs(history, string):\n",
    "    plt.plot(history.history[string])\n",
    "    plt.plot(history.history['val_'+string])\n",
    "    plt.xlabel('Epochs')\n",
    "    plt.ylabel(string)\n",
    "    plt.legend([string, 'val_'+string])\n",
    "    plt.show()"
   ]
  },
  {
   "cell_type": "code",
   "execution_count": 20,
   "metadata": {},
   "outputs": [
    {
     "data": {
      "image/png": "[encoded data removed]",
      "text/plain": [
       "<Figure size 432x288 with 1 Axes>"
      ]
     },
     "metadata": {
      "needs_background": "light"
     },
     "output_type": "display_data"
    },
    {
     "data": {
      "image/png": "[encoded data removed]",
      "text/plain": [
       "<Figure size 432x288 with 1 Axes>"
      ]
     },
     "metadata": {
      "needs_background": "light"
     },
     "output_type": "display_data"
    }
   ],
   "source": [
    "plot_graphs(history_2, 'accuracy')\n",
    "plot_graphs(history_2, 'loss')"
   ]
  },
  {
   "cell_type": "code",
   "execution_count": null,
   "metadata": {},
   "outputs": [],
   "source": []
  }
 ],
 "metadata": {
  "interpreter": {
   "hash": "3ee7205dc1c228b6cd913c2a156bb10dc2778a82715d275e9a46fb84fa02867e"
  },
  "kernelspec": {
   "display_name": "Python 3.8.10 64-bit ('curso_nlp': venv)",
   "language": "python",
   "name": "python3"
  },
  "language_info": {
   "codemirror_mode": {
    "name": "ipython",
    "version": 3
   },
   "file_extension": ".py",
   "mimetype": "text/x-python",
   "name": "python",
   "nbconvert_exporter": "python",
   "pygments_lexer": "ipython3",
   "version": "3.9.8"
  },
  "orig_nbformat": 4
 },
 "nbformat": 4,
 "nbformat_minor": 2
}
